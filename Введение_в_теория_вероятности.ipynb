{
  "cells": [
    {
      "cell_type": "markdown",
      "source": [
        "$${\\bar p}(n) = {\\displaystyle \\left(1-{\\frac {1}{365}}\\right)\\cdot \\left(1-{\\frac {2}{365}}\\right)\\cdot \\ldots \\cdot \\left(1-{\\frac {n-1}{365}}\\right)=} {\\displaystyle \\left(1-{\\frac {1}{365}}\\right)\\cdot \\left(1-{\\frac {2}{365}}\\right)\\cdot \\ldots \\cdot \\left(1-{\\frac {n-1}{365}}\\right)=} = {\\displaystyle {365\\cdot 364\\cdot \\ldots \\cdot (365-n+1) \\over 365^{n}}=} {\\displaystyle {365\\cdot 364\\cdot \\ldots \\cdot (365-n+1) \\over 365^{n}}=} {\\displaystyle {365! \\over 365^{n}(365-n)!}.}$$\n",
        "\n",
        "$$ n=10 ~ p=0.12 $$ \n",
        "$$ n=20 ~ p=0.41 $$ \n",
        "$$ n=30 ~ p=0.70 $$ \n",
        "$$ n=50 ~ p=0.97 $$ \n",
        "$$ n= 100 ~ p=0.9999996 $$ "
      ],
      "metadata": {
        "id": "BL5ZCXRN2feh"
      }
    },
    {
      "cell_type": "markdown",
      "metadata": {
        "id": "Z17_He4RyrEo"
      },
      "source": [
        "событие A -- выпал орел\n",
        "n - эксп.\n",
        "m раз произоло событие А.\n",
        "\n",
        "Частота:\n",
        "$$h_n(A) = \\dfrac{m}{n}$$\n",
        "\n",
        "\n",
        "000, 001, 010, 011, 100, 101, 110, 111\n",
        "\n",
        "$$A = {001 \\cup 010 \\cup 100}$$\n",
        "\n",
        "$$B = {000 \\cup 001}$$\n",
        "\n",
        "$$C = {A \\cap B} = {001}$$\n",
        "\n",
        "\n",
        "\n",
        "\n",
        "\n"
      ]
    },
    {
      "cell_type": "markdown",
      "metadata": {
        "id": "pvKCOUXayrEq"
      },
      "source": [
        "$$A1 = {000},  p = 1/8$$\n",
        "$$A2 = {001,010,100}, p=3/8$$\n",
        "$$A3 = {011,101,110}, p= 3/8$$\n",
        "$$A4 = {111}, p=1/8$$\n",
        "\n",
        "$A1 \\cap A2 = 0$\n",
        "\n",
        "\n",
        "\n"
      ]
    },
    {
      "cell_type": "markdown",
      "source": [],
      "metadata": {
        "id": "N_AP6G5U-m-c"
      }
    },
    {
      "cell_type": "markdown",
      "metadata": {
        "id": "vHdE-7yfyrEr"
      },
      "source": [
        "$$A_1 = {000,001}$$\n",
        "$$A_2 = {001,010,100}$$\n",
        "\n",
        "$$p(A_1) = \\dfrac{2}{8}$$\n",
        "$$p(A_2) = \\dfrac{3}{8}$$\n",
        "$$p(A_1 \\cup A_2)= p(A_1) + p(A_2) - p(A_1 \\cap A_2)$$\n",
        "\n",
        "\n",
        "\n",
        "\n",
        "\n"
      ]
    },
    {
      "cell_type": "markdown",
      "metadata": {
        "id": "e0roTe5iyrEr"
      },
      "source": [
        "$$ p(A|B) $$\n",
        "$$ h_n(A|B) = \\dfrac{h_n(AB)}{h_n(B)} $$\n"
      ]
    },
    {
      "cell_type": "markdown",
      "metadata": {
        "id": "hbPlv3TFyrEs"
      },
      "source": [
        "$$p(A|B) = \\dfrac{p(A \\cap B)}{p(B)} $$"
      ]
    },
    {
      "cell_type": "markdown",
      "metadata": {
        "id": "5T65JqhXyrEs"
      },
      "source": [
        "$$p(A \\cap B) = p(A|B)p(B) = p(B|A)p(A) $$"
      ]
    },
    {
      "cell_type": "markdown",
      "metadata": {
        "id": "n92z6MyByrEt"
      },
      "source": [
        "$$p(A)=p$$\n",
        "$$p(\\overline{A})=1-p$$\n",
        "\n",
        "$$C_n^kp^k(1-p)^{n-k}$$\n"
      ]
    },
    {
      "cell_type": "markdown",
      "metadata": {
        "id": "XvYa2AnGyrEu"
      },
      "source": [
        "A - рождение мальчика\n",
        "$$p(A) = 0.5$$\n",
        "\n",
        "n=10 k=5 p=0.5\n",
        "P=0.25\n",
        "\n"
      ]
    },
    {
      "cell_type": "markdown",
      "metadata": {
        "id": "XmTwx_fmyrEv"
      },
      "source": [
        "Полная вероятность\n",
        "\n",
        "$$A_1,A_2,...,A_n$$\n",
        "$$B = \\sum_{i=1}^{n} A_i \\cap B$$\n",
        "\n",
        "$$p(B) = \\sum_{i=1}^{n} p(A_i \\cap B) = \\sum_{i=1}^{n} p(B | A_i) p(A_i) $$\n",
        "\n"
      ]
    },
    {
      "cell_type": "markdown",
      "metadata": {
        "id": "E8hYzujmyrEv"
      },
      "source": [
        "$$p(A_i|B) = \\dfrac{p(B|A_i)p(A_i)}{p(B)} $$"
      ]
    },
    {
      "cell_type": "markdown",
      "metadata": {
        "id": "5qb6yssfyrEw"
      },
      "source": [
        "$$p(A_i|B) = \\dfrac{p(B|A_i)p(A_i)}{\\sum_{i=1}^{n} p(B | A_i) p(A_i)} $$"
      ]
    },
    {
      "cell_type": "markdown",
      "metadata": {
        "id": "URCQOxn6yrEw"
      },
      "source": [
        "Байесовский классификатор\n",
        "\n",
        "\n",
        "$$h(x)=argmax_{y \\in Y} p(y|x)$$\n",
        "\n",
        "$$h(x) = argmax_{y \\in Y} \\dfrac{p(x|y)p(y)}{p(x)} = argmax_{y \\in Y} p(x|y)p(y)$$ \n",
        "\n",
        "$$f_1(x),f_2(x),...,f_n(x)$$\n",
        "$$x_1,x_2,...,x_n$$\n",
        "\n",
        "\n",
        "$$h(x) = argmax_{y \\in Y} \\prod_{i=1}^{n} p(x_i|y) p(y)$$\n"
      ]
    },
    {
      "cell_type": "markdown",
      "metadata": {
        "id": "-9_8GVXmyrEw"
      },
      "source": [
        "$$X^l = \\{x^1,x^2,...,x^L\\}$$"
      ]
    },
    {
      "cell_type": "markdown",
      "metadata": {
        "id": "oOiC4O0dyrEx"
      },
      "source": [
        "$$x^j=[x^j_1\\,x^j_2,...,x^j_n], y^j$$"
      ]
    },
    {
      "cell_type": "markdown",
      "metadata": {
        "id": "zWxYN1HVyrEx"
      },
      "source": [
        "$$ Y =\\{y_1,y_2,..,y_K\\}$$"
      ]
    },
    {
      "cell_type": "markdown",
      "metadata": {
        "id": "vCMIDL-1yrEx"
      },
      "source": [
        "$$p(y)=\\dfrac{  |\\{ j|y^j=y \\} | }{L}$$"
      ]
    },
    {
      "cell_type": "markdown",
      "metadata": {
        "id": "fKWuuFr0yrEx"
      },
      "source": [
        "$$ f_i \\in X_i $$\n",
        "$$ c(x_i,y) = | \\{ j | y^j=y, f_i(x^j) = x_i \\} |$$\n"
      ]
    },
    {
      "cell_type": "markdown",
      "metadata": {
        "id": "zwk1h-YQyrEx"
      },
      "source": [
        "$$ p(x_i|y) = \\dfrac{ c(x_i,y) + a }{  \\sum_{z \\in X_i}{(c(z, y) + a)}   } $$"
      ]
    },
    {
      "cell_type": "markdown",
      "metadata": {
        "id": "BQrf0XadyrEx"
      },
      "source": [
        "$$ V =\\{v1,...,v_m\\}$$\n",
        "$$x=[f_1(x),f_2(x)...,f_m(x)]$$\n",
        "$$f_i(x) = 1, v_i \\in x$$\n",
        "\n",
        "$L_k$ докуметов класса $y_k$, $L_{ik}$ кол-во докуметов содержащих слово $v_i$ \n",
        "\n",
        "\n",
        "$$p(f_i(x) = 1 | y_k) = \\dfrac{L_{ik} + 1}{L_k + 2} = p_{ik} $$\n",
        "$$p(f_i(x) = 0 | y_k) = 1 - \\dfrac{L_{ik} + 1}{L_k + 2} = 1- p_{ik} $$\n"
      ]
    },
    {
      "cell_type": "markdown",
      "metadata": {
        "id": "kGy6hGJoyrEy"
      },
      "source": [
        "$$ k = argmax_{k=1,..,K}{\\prod_{i=1}^{m} p_{ik}^{x_i} (1-p_{ik})^{1-x_i} p(y_k)  }  $$"
      ]
    },
    {
      "cell_type": "markdown",
      "metadata": {
        "id": "gKYbGO8JyrEz"
      },
      "source": [
        "$$ w_j(x) $$\n",
        "\n",
        "\n",
        "$$ p(w_j(x) = v_i | y_k) = \\dfrac{c_{ik} + 1}{c_k + |V|} = p_{ik} $$\n",
        "\n",
        "\n"
      ]
    },
    {
      "cell_type": "markdown",
      "metadata": {
        "id": "kGLm40_myrEz"
      },
      "source": [
        "$c_{ik}$ - кол-во вхождений $v_i$ в документы класса $y_k$\n",
        "$c_k$ - количество слов в документах класса $y_k$"
      ]
    },
    {
      "cell_type": "markdown",
      "metadata": {
        "id": "-sYca6-XyrEz"
      },
      "source": [
        "$$ k = argmax_{k=1,..,K}{\\prod_{i=1}^{m} p_{ik}^{n_i} p(y_k)  }  $$"
      ]
    },
    {
      "cell_type": "markdown",
      "metadata": {
        "id": "okTtjWi6yrEz"
      },
      "source": [
        "$n_i$ - число вхождений слова $v_i$ в документ $x$."
      ]
    }
  ],
  "metadata": {
    "kernelspec": {
      "display_name": "Python 3",
      "language": "python",
      "name": "python3"
    },
    "language_info": {
      "codemirror_mode": {
        "name": "ipython",
        "version": 3
      },
      "file_extension": ".py",
      "mimetype": "text/x-python",
      "name": "python",
      "nbconvert_exporter": "python",
      "pygments_lexer": "ipython3",
      "version": "3.7.3"
    },
    "colab": {
      "provenance": []
    }
  },
  "nbformat": 4,
  "nbformat_minor": 0
}